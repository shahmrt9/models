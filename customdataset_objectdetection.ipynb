{
  "nbformat": 4,
  "nbformat_minor": 0,
  "metadata": {
    "colab": {
      "provenance": [],
      "gpuType": "T4",
      "mount_file_id": "106u0QdujiIwpZvJ0ZbKyo1kcv9pL1Oi1",
      "authorship_tag": "ABX9TyP4oQ/SygprgoMImh7HiZPg",
      "include_colab_link": true
    },
    "kernelspec": {
      "name": "python3",
      "display_name": "Python 3"
    },
    "language_info": {
      "name": "python"
    },
    "accelerator": "GPU"
  },
  "cells": [
    {
      "cell_type": "markdown",
      "metadata": {
        "id": "view-in-github",
        "colab_type": "text"
      },
      "source": [
        "<a href=\"https://colab.research.google.com/github/shahmrt9/models/blob/master/customdataset_objectdetection.ipynb\" target=\"_parent\"><img src=\"https://colab.research.google.com/assets/colab-badge.svg\" alt=\"Open In Colab\"/></a>"
      ]
    },
    {
      "cell_type": "code",
      "source": [
        "!pip install tensorflow\n",
        "!pip install tensorflow-gpu  # If using GPU\n",
        "!pip install pillow\n",
        "!pip install lxml\n",
        "!pip install matplotlib\n",
        "!pip install opencv-python\n"
      ],
      "metadata": {
        "id": "bOMQimPAojJ7"
      },
      "execution_count": null,
      "outputs": []
    },
    {
      "cell_type": "code",
      "source": [
        "import tensorflow as tf\n",
        "import os\n",
        "import cv2\n",
        "import numpy as np\n",
        "import urllib.request\n",
        "import tarfile\n",
        "import zipfile\n",
        "import pathlib\n",
        "from matplotlib import pyplot as plt\n"
      ],
      "metadata": {
        "id": "13FpPZUTokM9"
      },
      "execution_count": 10,
      "outputs": []
    },
    {
      "cell_type": "code",
      "execution_count": null,
      "metadata": {
        "colab": {
          "base_uri": "https://localhost:8080/"
        },
        "id": "I9t94P2L1LYg",
        "outputId": "bad8175e-14c8-4942-cda2-439b8e860afd"
      },
      "outputs": [
        {
          "output_type": "stream",
          "name": "stdout",
          "text": [
            "/content/drive/MyDrive\n"
          ]
        }
      ],
      "source": [
        "cd/content/drive/MyDrive"
      ]
    },
    {
      "cell_type": "code",
      "source": [
        "!git clone https://github.com/tensorflow/models.git"
      ],
      "metadata": {
        "colab": {
          "base_uri": "https://localhost:8080/"
        },
        "id": "P0nmiV5g1rWK",
        "outputId": "de4ca6d6-6500-46c5-8232-8a3f2e14aa2c"
      },
      "execution_count": null,
      "outputs": [
        {
          "output_type": "stream",
          "name": "stdout",
          "text": [
            "fatal: destination path 'models' already exists and is not an empty directory.\n"
          ]
        }
      ]
    },
    {
      "cell_type": "code",
      "source": [
        "cd/content/drive/MyDrive/models/research"
      ],
      "metadata": {
        "id": "IVY7-fCR17wN",
        "colab": {
          "base_uri": "https://localhost:8080/"
        },
        "outputId": "0a5f5502-4e6a-40fc-c1a4-5966ad6d40c2"
      },
      "execution_count": 11,
      "outputs": [
        {
          "output_type": "stream",
          "name": "stdout",
          "text": [
            "/content/drive/MyDrive/models/research\n"
          ]
        }
      ]
    },
    {
      "cell_type": "code",
      "source": [
        "!pip install wget"
      ],
      "metadata": {
        "colab": {
          "base_uri": "https://localhost:8080/"
        },
        "id": "Z1-VBz8ajLZj",
        "outputId": "edb13846-da7c-450e-e31e-a871695a8269"
      },
      "execution_count": null,
      "outputs": [
        {
          "output_type": "stream",
          "name": "stdout",
          "text": [
            "Looking in indexes: https://pypi.org/simple, https://us-python.pkg.dev/colab-wheels/public/simple/\n",
            "Requirement already satisfied: wget in /usr/local/lib/python3.10/dist-packages (3.2)\n"
          ]
        }
      ]
    },
    {
      "cell_type": "code",
      "source": [
        "import wget\n",
        "wget.download('https://github.com/tensorflow/models/blob/master/research/object_detection/g3doc/tf2_detection_zoo.md')"
      ],
      "metadata": {
        "id": "KaO4j-pXjWgW"
      },
      "execution_count": null,
      "outputs": []
    },
    {
      "cell_type": "code",
      "source": [],
      "metadata": {
        "id": "LAKTkbULlPWj"
      },
      "execution_count": null,
      "outputs": []
    }
  ]
}